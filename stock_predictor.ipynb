{
 "cells": [
  {
   "cell_type": "code",
   "execution_count": 2,
   "id": "376c4202-3de4-466b-8d29-e5620d77f22a",
   "metadata": {},
   "outputs": [],
   "source": [
    "import pandas as pd\n",
    "import scipy\n",
    "import numpy as np\n",
    "from sklearn.preprocessing import MinMaxScaler\n",
    "import seaborn as sns\n",
    "import matplotlib.pyplot as plt"
   ]
  },
  {
   "cell_type": "code",
   "execution_count": 3,
   "id": "443ea79d-6495-4ab5-87ad-3c7c0ceeeadc",
   "metadata": {},
   "outputs": [
    {
     "data": {
      "text/html": [
       "<div>\n",
       "<style scoped>\n",
       "    .dataframe tbody tr th:only-of-type {\n",
       "        vertical-align: middle;\n",
       "    }\n",
       "\n",
       "    .dataframe tbody tr th {\n",
       "        vertical-align: top;\n",
       "    }\n",
       "\n",
       "    .dataframe thead th {\n",
       "        text-align: right;\n",
       "    }\n",
       "</style>\n",
       "<table border=\"1\" class=\"dataframe\">\n",
       "  <thead>\n",
       "    <tr style=\"text-align: right;\">\n",
       "      <th></th>\n",
       "      <th>Date</th>\n",
       "      <th>Auto</th>\n",
       "      <th>CNXcons</th>\n",
       "      <th>CNXenergy</th>\n",
       "      <th>NiftFinServ</th>\n",
       "      <th>NiftyFMCG</th>\n",
       "      <th>CNXInfra</th>\n",
       "      <th>Metal</th>\n",
       "      <th>PSE</th>\n",
       "      <th>PSU</th>\n",
       "      <th>Reality</th>\n",
       "      <th>Service</th>\n",
       "    </tr>\n",
       "  </thead>\n",
       "  <tbody>\n",
       "    <tr>\n",
       "      <th>2849</th>\n",
       "      <td>01-08-2023</td>\n",
       "      <td>156.887002</td>\n",
       "      <td>83.752002</td>\n",
       "      <td>267.834492</td>\n",
       "      <td>203.272500</td>\n",
       "      <td>525.011484</td>\n",
       "      <td>60.765498</td>\n",
       "      <td>67.701499</td>\n",
       "      <td>55.121499</td>\n",
       "      <td>45.963999</td>\n",
       "      <td>5.5670</td>\n",
       "      <td>253.242500</td>\n",
       "    </tr>\n",
       "    <tr>\n",
       "      <th>2850</th>\n",
       "      <td>02-08-2023</td>\n",
       "      <td>154.289004</td>\n",
       "      <td>83.128496</td>\n",
       "      <td>263.523496</td>\n",
       "      <td>200.669492</td>\n",
       "      <td>523.686992</td>\n",
       "      <td>59.970498</td>\n",
       "      <td>66.334502</td>\n",
       "      <td>53.952002</td>\n",
       "      <td>44.764502</td>\n",
       "      <td>5.4840</td>\n",
       "      <td>250.274004</td>\n",
       "    </tr>\n",
       "    <tr>\n",
       "      <th>2851</th>\n",
       "      <td>03-08-2023</td>\n",
       "      <td>153.797998</td>\n",
       "      <td>82.547998</td>\n",
       "      <td>262.218496</td>\n",
       "      <td>198.324492</td>\n",
       "      <td>520.623516</td>\n",
       "      <td>59.732998</td>\n",
       "      <td>66.022002</td>\n",
       "      <td>53.876001</td>\n",
       "      <td>44.502500</td>\n",
       "      <td>5.3865</td>\n",
       "      <td>248.260508</td>\n",
       "    </tr>\n",
       "    <tr>\n",
       "      <th>2852</th>\n",
       "      <td>04-08-2023</td>\n",
       "      <td>153.284004</td>\n",
       "      <td>82.782500</td>\n",
       "      <td>262.520508</td>\n",
       "      <td>199.885508</td>\n",
       "      <td>520.506484</td>\n",
       "      <td>60.105000</td>\n",
       "      <td>66.228999</td>\n",
       "      <td>53.825000</td>\n",
       "      <td>44.191001</td>\n",
       "      <td>5.3915</td>\n",
       "      <td>250.573496</td>\n",
       "    </tr>\n",
       "    <tr>\n",
       "      <th>2853</th>\n",
       "      <td>07-08-2023</td>\n",
       "      <td>153.909004</td>\n",
       "      <td>83.102500</td>\n",
       "      <td>262.663008</td>\n",
       "      <td>200.225996</td>\n",
       "      <td>520.725000</td>\n",
       "      <td>60.290498</td>\n",
       "      <td>66.221499</td>\n",
       "      <td>54.018999</td>\n",
       "      <td>43.927998</td>\n",
       "      <td>5.4230</td>\n",
       "      <td>251.318008</td>\n",
       "    </tr>\n",
       "  </tbody>\n",
       "</table>\n",
       "</div>"
      ],
      "text/plain": [
       "            Date        Auto    CNXcons   CNXenergy  NiftFinServ   NiftyFMCG  \\\n",
       "2849  01-08-2023  156.887002  83.752002  267.834492   203.272500  525.011484   \n",
       "2850  02-08-2023  154.289004  83.128496  263.523496   200.669492  523.686992   \n",
       "2851  03-08-2023  153.797998  82.547998  262.218496   198.324492  520.623516   \n",
       "2852  04-08-2023  153.284004  82.782500  262.520508   199.885508  520.506484   \n",
       "2853  07-08-2023  153.909004  83.102500  262.663008   200.225996  520.725000   \n",
       "\n",
       "       CNXInfra      Metal        PSE        PSU  Reality     Service  \n",
       "2849  60.765498  67.701499  55.121499  45.963999   5.5670  253.242500  \n",
       "2850  59.970498  66.334502  53.952002  44.764502   5.4840  250.274004  \n",
       "2851  59.732998  66.022002  53.876001  44.502500   5.3865  248.260508  \n",
       "2852  60.105000  66.228999  53.825000  44.191001   5.3915  250.573496  \n",
       "2853  60.290498  66.221499  54.018999  43.927998   5.4230  251.318008  "
      ]
     },
     "execution_count": 3,
     "metadata": {},
     "output_type": "execute_result"
    }
   ],
   "source": [
    "data=pd.read_csv(\"rsv.csv\")\n",
    "data.head()\n",
    "data.tail()"
   ]
  },
  {
   "cell_type": "code",
   "execution_count": 4,
   "id": "c681f058-81f8-4e4e-b686-ccc9e1ea58de",
   "metadata": {},
   "outputs": [
    {
     "name": "stdout",
     "output_type": "stream",
     "text": [
      "<class 'pandas.core.frame.DataFrame'>\n",
      "RangeIndex: 2854 entries, 0 to 2853\n",
      "Data columns (total 12 columns):\n",
      " #   Column       Non-Null Count  Dtype  \n",
      "---  ------       --------------  -----  \n",
      " 0   Date         2854 non-null   object \n",
      " 1   Auto         2854 non-null   float64\n",
      " 2   CNXcons      2854 non-null   float64\n",
      " 3   CNXenergy    2854 non-null   float64\n",
      " 4   NiftFinServ  2854 non-null   float64\n",
      " 5   NiftyFMCG    2854 non-null   float64\n",
      " 6   CNXInfra     2854 non-null   float64\n",
      " 7   Metal        2854 non-null   float64\n",
      " 8   PSE          2854 non-null   float64\n",
      " 9   PSU          2854 non-null   float64\n",
      " 10  Reality      2854 non-null   float64\n",
      " 11  Service      2854 non-null   float64\n",
      "dtypes: float64(11), object(1)\n",
      "memory usage: 267.7+ KB\n"
     ]
    }
   ],
   "source": [
    "data.info()"
   ]
  },
  {
   "cell_type": "code",
   "execution_count": 5,
   "id": "67539b29-d593-4fb0-9e03-c9394c99891c",
   "metadata": {},
   "outputs": [
    {
     "data": {
      "text/plain": [
       "Date           0\n",
       "Auto           0\n",
       "CNXcons        0\n",
       "CNXenergy      0\n",
       "NiftFinServ    0\n",
       "NiftyFMCG      0\n",
       "CNXInfra       0\n",
       "Metal          0\n",
       "PSE            0\n",
       "PSU            0\n",
       "Reality        0\n",
       "Service        0\n",
       "dtype: int64"
      ]
     },
     "execution_count": 5,
     "metadata": {},
     "output_type": "execute_result"
    }
   ],
   "source": [
    "data.isnull().sum()"
   ]
  },
  {
   "cell_type": "code",
   "execution_count": 6,
   "id": "314d94cb-b346-4116-aad6-7a124d81d27f",
   "metadata": {},
   "outputs": [
    {
     "data": {
      "text/html": [
       "<div>\n",
       "<style scoped>\n",
       "    .dataframe tbody tr th:only-of-type {\n",
       "        vertical-align: middle;\n",
       "    }\n",
       "\n",
       "    .dataframe tbody tr th {\n",
       "        vertical-align: top;\n",
       "    }\n",
       "\n",
       "    .dataframe thead th {\n",
       "        text-align: right;\n",
       "    }\n",
       "</style>\n",
       "<table border=\"1\" class=\"dataframe\">\n",
       "  <thead>\n",
       "    <tr style=\"text-align: right;\">\n",
       "      <th></th>\n",
       "      <th>Auto</th>\n",
       "      <th>CNXcons</th>\n",
       "      <th>CNXenergy</th>\n",
       "      <th>NiftFinServ</th>\n",
       "      <th>NiftyFMCG</th>\n",
       "      <th>CNXInfra</th>\n",
       "      <th>Metal</th>\n",
       "      <th>PSE</th>\n",
       "      <th>PSU</th>\n",
       "      <th>Reality</th>\n",
       "      <th>Service</th>\n",
       "    </tr>\n",
       "  </thead>\n",
       "  <tbody>\n",
       "    <tr>\n",
       "      <th>count</th>\n",
       "      <td>2854.000000</td>\n",
       "      <td>2854.000000</td>\n",
       "      <td>2854.000000</td>\n",
       "      <td>2854.000000</td>\n",
       "      <td>2854.000000</td>\n",
       "      <td>2854.000000</td>\n",
       "      <td>2854.000000</td>\n",
       "      <td>2854.000000</td>\n",
       "      <td>2854.000000</td>\n",
       "      <td>2854.000000</td>\n",
       "      <td>2854.000000</td>\n",
       "    </tr>\n",
       "    <tr>\n",
       "      <th>mean</th>\n",
       "      <td>86.142660</td>\n",
       "      <td>44.636519</td>\n",
       "      <td>137.351648</td>\n",
       "      <td>103.835408</td>\n",
       "      <td>265.272981</td>\n",
       "      <td>33.579592</td>\n",
       "      <td>33.294723</td>\n",
       "      <td>34.138560</td>\n",
       "      <td>29.459996</td>\n",
       "      <td>2.728753</td>\n",
       "      <td>140.155718</td>\n",
       "    </tr>\n",
       "    <tr>\n",
       "      <th>std</th>\n",
       "      <td>27.307862</td>\n",
       "      <td>17.294684</td>\n",
       "      <td>60.422867</td>\n",
       "      <td>47.798916</td>\n",
       "      <td>96.394054</td>\n",
       "      <td>9.308230</td>\n",
       "      <td>13.572733</td>\n",
       "      <td>6.345849</td>\n",
       "      <td>6.961535</td>\n",
       "      <td>0.973832</td>\n",
       "      <td>58.912853</td>\n",
       "    </tr>\n",
       "    <tr>\n",
       "      <th>min</th>\n",
       "      <td>33.561001</td>\n",
       "      <td>16.885800</td>\n",
       "      <td>68.757998</td>\n",
       "      <td>33.699399</td>\n",
       "      <td>101.039502</td>\n",
       "      <td>18.961500</td>\n",
       "      <td>14.956000</td>\n",
       "      <td>20.121500</td>\n",
       "      <td>10.872000</td>\n",
       "      <td>1.282500</td>\n",
       "      <td>56.292998</td>\n",
       "    </tr>\n",
       "    <tr>\n",
       "      <th>25%</th>\n",
       "      <td>69.166625</td>\n",
       "      <td>32.811625</td>\n",
       "      <td>83.584753</td>\n",
       "      <td>64.541876</td>\n",
       "      <td>192.481758</td>\n",
       "      <td>26.859625</td>\n",
       "      <td>23.979249</td>\n",
       "      <td>29.076376</td>\n",
       "      <td>24.885250</td>\n",
       "      <td>2.020125</td>\n",
       "      <td>97.385249</td>\n",
       "    </tr>\n",
       "    <tr>\n",
       "      <th>50%</th>\n",
       "      <td>85.488750</td>\n",
       "      <td>44.633501</td>\n",
       "      <td>128.522749</td>\n",
       "      <td>99.574751</td>\n",
       "      <td>258.992754</td>\n",
       "      <td>31.619750</td>\n",
       "      <td>28.863500</td>\n",
       "      <td>34.537749</td>\n",
       "      <td>29.947750</td>\n",
       "      <td>2.466000</td>\n",
       "      <td>129.571748</td>\n",
       "    </tr>\n",
       "    <tr>\n",
       "      <th>75%</th>\n",
       "      <td>107.460122</td>\n",
       "      <td>51.681249</td>\n",
       "      <td>162.077373</td>\n",
       "      <td>142.361377</td>\n",
       "      <td>314.412495</td>\n",
       "      <td>35.231125</td>\n",
       "      <td>37.134750</td>\n",
       "      <td>38.753625</td>\n",
       "      <td>34.113374</td>\n",
       "      <td>3.157750</td>\n",
       "      <td>172.926255</td>\n",
       "    </tr>\n",
       "    <tr>\n",
       "      <th>max</th>\n",
       "      <td>157.655996</td>\n",
       "      <td>85.000000</td>\n",
       "      <td>290.460996</td>\n",
       "      <td>205.843496</td>\n",
       "      <td>542.396992</td>\n",
       "      <td>61.153501</td>\n",
       "      <td>69.057998</td>\n",
       "      <td>55.121499</td>\n",
       "      <td>46.205498</td>\n",
       "      <td>5.667500</td>\n",
       "      <td>257.888008</td>\n",
       "    </tr>\n",
       "  </tbody>\n",
       "</table>\n",
       "</div>"
      ],
      "text/plain": [
       "              Auto      CNXcons    CNXenergy  NiftFinServ    NiftyFMCG  \\\n",
       "count  2854.000000  2854.000000  2854.000000  2854.000000  2854.000000   \n",
       "mean     86.142660    44.636519   137.351648   103.835408   265.272981   \n",
       "std      27.307862    17.294684    60.422867    47.798916    96.394054   \n",
       "min      33.561001    16.885800    68.757998    33.699399   101.039502   \n",
       "25%      69.166625    32.811625    83.584753    64.541876   192.481758   \n",
       "50%      85.488750    44.633501   128.522749    99.574751   258.992754   \n",
       "75%     107.460122    51.681249   162.077373   142.361377   314.412495   \n",
       "max     157.655996    85.000000   290.460996   205.843496   542.396992   \n",
       "\n",
       "          CNXInfra        Metal          PSE          PSU      Reality  \\\n",
       "count  2854.000000  2854.000000  2854.000000  2854.000000  2854.000000   \n",
       "mean     33.579592    33.294723    34.138560    29.459996     2.728753   \n",
       "std       9.308230    13.572733     6.345849     6.961535     0.973832   \n",
       "min      18.961500    14.956000    20.121500    10.872000     1.282500   \n",
       "25%      26.859625    23.979249    29.076376    24.885250     2.020125   \n",
       "50%      31.619750    28.863500    34.537749    29.947750     2.466000   \n",
       "75%      35.231125    37.134750    38.753625    34.113374     3.157750   \n",
       "max      61.153501    69.057998    55.121499    46.205498     5.667500   \n",
       "\n",
       "           Service  \n",
       "count  2854.000000  \n",
       "mean    140.155718  \n",
       "std      58.912853  \n",
       "min      56.292998  \n",
       "25%      97.385249  \n",
       "50%     129.571748  \n",
       "75%     172.926255  \n",
       "max     257.888008  "
      ]
     },
     "execution_count": 6,
     "metadata": {},
     "output_type": "execute_result"
    }
   ],
   "source": [
    "data.describe()"
   ]
  },
  {
   "cell_type": "code",
   "execution_count": 7,
   "id": "533b9c34-bbfb-40c8-82f9-51be39d53a1e",
   "metadata": {},
   "outputs": [
    {
     "name": "stdout",
     "output_type": "stream",
     "text": [
      "Auto          -0.034960\n",
      "CNXcons        0.428428\n",
      "CNXenergy      0.849739\n",
      "NiftFinServ    0.442807\n",
      "NiftyFMCG      0.580479\n",
      "CNXInfra       1.003990\n",
      "Metal          1.068050\n",
      "PSE            0.270082\n",
      "PSU           -0.362940\n",
      "Reality        1.009994\n",
      "Service        0.548413\n",
      "dtype: float64\n"
     ]
    }
   ],
   "source": [
    "data_list=['Auto','CNXcons','CNXenergy','NiftFinServ','NiftyFMCG','CNXInfra','Metal','PSE','PSU','Reality','Service']\n",
    "skewness=data[data_list].skew()\n",
    "print(skewness)"
   ]
  },
  {
   "cell_type": "code",
   "execution_count": 8,
   "id": "126ab069-8928-47bb-8ef7-d4cd66432f53",
   "metadata": {},
   "outputs": [
    {
     "data": {
      "text/plain": [
       "Auto          -0.034960\n",
       "CNXcons        0.428428\n",
       "CNXenergy      0.849739\n",
       "NiftFinServ    0.442807\n",
       "NiftyFMCG      0.580479\n",
       "CNXInfra       1.003990\n",
       "Metal          1.068050\n",
       "PSE            0.270082\n",
       "PSU           -0.362940\n",
       "Reality        1.009994\n",
       "Service        0.548413\n",
       "dtype: float64"
      ]
     },
     "execution_count": 8,
     "metadata": {},
     "output_type": "execute_result"
    }
   ],
   "source": [
    "data1=data.iloc[:,1:12] \n",
    "data1.skew()"
   ]
  },
  {
   "cell_type": "code",
   "execution_count": 9,
   "id": "fd606a77-923b-4a5f-8989-d95e4a6e0e81",
   "metadata": {},
   "outputs": [
    {
     "data": {
      "text/plain": [
       "Auto          -0.637760\n",
       "CNXcons       -0.698409\n",
       "CNXenergy     -0.423515\n",
       "NiftFinServ   -1.022826\n",
       "NiftyFMCG     -0.259876\n",
       "CNXInfra       0.027510\n",
       "Metal         -0.007010\n",
       "PSE           -0.383724\n",
       "PSU            0.026328\n",
       "Reality        0.161978\n",
       "Service       -0.881682\n",
       "dtype: float64"
      ]
     },
     "execution_count": 9,
     "metadata": {},
     "output_type": "execute_result"
    }
   ],
   "source": [
    "data1.kurtosis()"
   ]
  },
  {
   "cell_type": "code",
   "execution_count": 23,
   "id": "057c0363-b4c3-47ad-970f-2ec7ac25e6e8",
   "metadata": {},
   "outputs": [
    {
     "data": {
      "image/png": "[encoded data removed]",
      "text/plain": [
       "<Figure size 640x480 with 1 Axes>"
      ]
     },
     "metadata": {},
     "output_type": "display_data"
    }
   ],
   "source": [
    "data.iloc[:,1:12].plot()\n",
    "plt.xlabel('Year')\n",
    "plt.ylabel('Stock Price')\n",
    "\n",
    "plt.show()"
   ]
  },
  {
   "cell_type": "code",
   "execution_count": 11,
   "id": "2ebabf9e-098d-4fdb-90da-5323ac09dd45",
   "metadata": {},
   "outputs": [
    {
     "data": {
      "text/plain": [
       "0    02-01-2012\n",
       "1    03-01-2012\n",
       "2    04-01-2012\n",
       "3    05-01-2012\n",
       "4    06-01-2012\n",
       "Name: Date, dtype: object"
      ]
     },
     "execution_count": 11,
     "metadata": {},
     "output_type": "execute_result"
    }
   ],
   "source": [
    "date=data.iloc[:,0]\n",
    "date.head()"
   ]
  },
  {
   "cell_type": "code",
   "execution_count": 12,
   "id": "3c5c2114-c56c-4852-8b88-96b4b7db9149",
   "metadata": {},
   "outputs": [
    {
     "data": {
      "text/plain": [
       "0    33.561001\n",
       "1    34.140500\n",
       "2    33.861001\n",
       "3    34.267500\n",
       "4    34.160000\n",
       "Name: Auto, dtype: float64"
      ]
     },
     "execution_count": 12,
     "metadata": {},
     "output_type": "execute_result"
    }
   ],
   "source": [
    "cmp1=data.iloc[:,1]\n",
    "cmp1.head()"
   ]
  },
  {
   "cell_type": "code",
   "execution_count": null,
   "id": "a1c655cb-6afe-4d48-b910-986b96a66481",
   "metadata": {},
   "outputs": [],
   "source": [
    "data['Date'] = pd.to_datetime(data['Date'])\n",
    "\n",
    "\n",
    "# Set the 'date' column as the index of the DataFrame\n",
    "data = data.set_index('Date')\n",
    "\n",
    "# Plot the data\n",
    "data.plot()\n",
    "\n",
    "# Display the plot\n",
    "plt.show()"
   ]
  },
  {
   "cell_type": "code",
   "execution_count": null,
   "id": "eaf487bb-f973-492c-9d2a-36e4a23e062d",
   "metadata": {},
   "outputs": [],
   "source": [
    "x=data.iloc[:,0]\n",
    "y=data.iloc[:,1:12]\n",
    "plt.plot(x,y,xlabel=\"Year\",ylabel=\"Stock Price\")\n",
    "plt.show()"
   ]
  }
 ],
 "metadata": {
  "kernelspec": {
   "display_name": "Python 3 (ipykernel)",
   "language": "python",
   "name": "python3"
  },
  "language_info": {
   "codemirror_mode": {
    "name": "ipython",
    "version": 3
   },
   "file_extension": ".py",
   "mimetype": "text/x-python",
   "name": "python",
   "nbconvert_exporter": "python",
   "pygments_lexer": "ipython3",
   "version": "3.11.0"
  }
 },
 "nbformat": 4,
 "nbformat_minor": 5
}
